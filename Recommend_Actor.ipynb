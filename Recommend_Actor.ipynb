{
 "cells": [
  {
   "cell_type": "markdown",
   "metadata": {},
   "source": [
    "# Systema de Recomendaciones\n",
    "## Artists recomendation with Python"
   ]
  },
  {
   "cell_type": "markdown",
   "metadata": {},
   "source": [
    "### instalar from jupyter notebook console:\n",
    "\n",
    "pip install numpy <br>   #Dependency with vectors & matrix<br> <br> \n",
    "pip install scipy <br>   #Open source Math library & algorithms<br> <br> \n",
    "pip install lightfm<br>  #Recomendation algortihm including BPR & WARP.<br> \n",
    "\n",
    "##### NOTA: lightfm la instale con conda ya que pip me daba errores"
   ]
  },
  {
   "cell_type": "markdown",
   "metadata": {},
   "source": [
    "01 Import necesary libraries and dataset moduls "
   ]
  },
  {
   "cell_type": "code",
   "execution_count": 124,
   "metadata": {},
   "outputs": [],
   "source": [
    "import numpy as np\n",
    "from lightfm import LightFM\n",
    "from fetch_lastfm import fetch_lastfm\n",
    "import sys"
   ]
  },
  {
   "cell_type": "code",
   "execution_count": 125,
   "metadata": {},
   "outputs": [],
   "source": [
    "data = fetch_lastfm()"
   ]
  },
  {
   "cell_type": "code",
   "execution_count": 126,
   "metadata": {},
   "outputs": [
    {
     "data": {
      "text/plain": [
       "<lightfm.lightfm.LightFM at 0x1109e5eb8>"
      ]
     },
     "execution_count": 126,
     "metadata": {},
     "output_type": "execute_result"
    }
   ],
   "source": [
    "model = LightFM(loss='warp')\n",
    "model.fit(data['matrix'], epochs=30, num_threads=2)"
   ]
  },
  {
   "cell_type": "code",
   "execution_count": 127,
   "metadata": {},
   "outputs": [],
   "source": [
    "# Get recommendationns function\n",
    "def get_recommendations(model, coo_mtrx, users_ids):\n",
    "\n",
    "    n_items = coo_mtrx.shape[1]\n",
    "\n",
    "    for user in users_ids:\n",
    "\n",
    "        # TODO create known positives\n",
    "        # Artists the model predicts they will like\n",
    "        scores = model.predict(user, np.arange(n_items))\n",
    "        top_scores = np.argsort(-scores)[:3]\n",
    "\n",
    "        print ('Recomendations for user %s:' % user)\n",
    "\n",
    "        for x in top_scores.tolist():\n",
    "            for artist, values in data['artists'].items():\n",
    "                if int(x) == values['id']:\n",
    "                    print ('   - %s' % values['name'])\n",
    "\n",
    "        print ('\\n') # until here works, erase later\n",
    "\n",
    "\n"
   ]
  },
  {
   "cell_type": "code",
   "execution_count": 128,
   "metadata": {},
   "outputs": [
    {
     "name": "stdout",
     "output_type": "stream",
     "text": [
      "<lightfm.lightfm.LightFM object at 0x1109e5eb8>\n"
     ]
    }
   ],
   "source": [
    "print (model)"
   ]
  },
  {
   "cell_type": "code",
   "execution_count": 153,
   "metadata": {},
   "outputs": [
    {
     "name": "stdout",
     "output_type": "stream",
     "text": [
      "Select user_1 (0 to 2033): 2030\n",
      "Select user_2 (0 to 2033): 229\n",
      "Select user_3 (0 to 2033): 2029\n",
      "\n",
      "\n"
     ]
    }
   ],
   "source": [
    "user_1 = input('Select user_1 (0 to %s): ' % data['users'])\n",
    "user_2 = input('Select user_2 (0 to %s): ' % data['users'])\n",
    "user_3 = input('Select user_3 (0 to %s): ' % data['users'])\n",
    "\n",
    "print ('\\n') # users only valid until 2030"
   ]
  },
  {
   "cell_type": "code",
   "execution_count": 156,
   "metadata": {},
   "outputs": [
    {
     "name": "stdout",
     "output_type": "stream",
     "text": [
      "Recomendations for user 2030:\n",
      "   - rock universal\n",
      "   - radiohead\n",
      "   - the beatles\n",
      "\n",
      "\n",
      "Recomendations for user 229:\n",
      "   - radiohead\n",
      "   - rock universal\n",
      "   - the beatles\n",
      "\n",
      "\n",
      "Recomendations for user 2029:\n",
      "   - rock universal\n",
      "   - the beatles\n",
      "   - radiohead\n",
      "\n",
      "\n"
     ]
    }
   ],
   "source": [
    "get_recommendations(model, data['matrix'], [user_1, user_2, user_3])"
   ]
  },
  {
   "cell_type": "markdown",
   "metadata": {},
   "source": [
    "### RESUME,\n",
    "1.- Recomendation algorithms help us make decision by learning our preferences.<br>\n",
    "2.- Two types of recomendations algorithms: Content Based & Collaborative.<br>\n",
    "3.- With a few change we can include new features in our recomendation sistem using LightFM.<br>\n",
    "\n",
    "### Thanks for watching\n",
    "\n",
    "###### Cristhian Teran"
   ]
  },
  {
   "cell_type": "code",
   "execution_count": null,
   "metadata": {},
   "outputs": [],
   "source": []
  }
 ],
 "metadata": {
  "kernelspec": {
   "display_name": "Python 3",
   "language": "python",
   "name": "python3"
  },
  "language_info": {
   "codemirror_mode": {
    "name": "ipython",
    "version": 3
   },
   "file_extension": ".py",
   "mimetype": "text/x-python",
   "name": "python",
   "nbconvert_exporter": "python",
   "pygments_lexer": "ipython3",
   "version": "3.5.4"
  }
 },
 "nbformat": 4,
 "nbformat_minor": 2
}
